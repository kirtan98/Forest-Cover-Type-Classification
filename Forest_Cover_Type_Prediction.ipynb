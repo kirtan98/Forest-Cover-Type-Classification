{
  "cells": [
    {
      "cell_type": "code",
      "execution_count": null,
      "metadata": {
        "id": "CDj7exER9zrc"
      },
      "outputs": [],
      "source": [
        "import numpy as np\n",
        "import pandas as pd\n",
        "\n",
        "from sklearn.model_selection import train_test_split, GridSearchCV, cross_val_score\n",
        "\n",
        "from sklearn.linear_model import LogisticRegression\n",
        "from sklearn.ensemble import RandomForestClassifier, ExtraTreesClassifier, GradientBoostingClassifier, HistGradientBoostingClassifier, StackingClassifier\n",
        "from sklearn.tree import DecisionTreeClassifier\n",
        "\n",
        "from sklearn.metrics import accuracy_score, confusion_matrix, classification_report\n",
        "\n",
        "import matplotlib.pyplot as plt\n",
        "\n",
        "import warnings\n",
        "warnings.filterwarnings('ignore')"
      ]
    },
    {
      "cell_type": "code",
      "execution_count": null,
      "metadata": {
        "id": "e7PK9FW9552c"
      },
      "outputs": [],
      "source": [
        "train_data = pd.read_csv(r\"/content/drive/MyDrive/Colab Notebooks/forest-cover-type-prediction/train.csv\")"
      ]
    },
    {
      "cell_type": "code",
      "execution_count": null,
      "metadata": {
        "colab": {
          "base_uri": "https://localhost:8080/"
        },
        "id": "tapdkou25_WK",
        "outputId": "5348cc65-f47c-4709-f0bd-e0d544fd2fe1"
      },
      "outputs": [
        {
          "data": {
            "text/plain": [
              "Index(['Id', 'Elevation', 'Aspect', 'Slope',\n",
              "       'Horizontal_Distance_To_Hydrology', 'Vertical_Distance_To_Hydrology',\n",
              "       'Horizontal_Distance_To_Roadways', 'Hillshade_9am', 'Hillshade_Noon',\n",
              "       'Hillshade_3pm', 'Horizontal_Distance_To_Fire_Points',\n",
              "       'Wilderness_Area1', 'Wilderness_Area2', 'Wilderness_Area3',\n",
              "       'Wilderness_Area4', 'Soil_Type1', 'Soil_Type2', 'Soil_Type3',\n",
              "       'Soil_Type4', 'Soil_Type5', 'Soil_Type6', 'Soil_Type7', 'Soil_Type8',\n",
              "       'Soil_Type9', 'Soil_Type10', 'Soil_Type11', 'Soil_Type12',\n",
              "       'Soil_Type13', 'Soil_Type14', 'Soil_Type15', 'Soil_Type16',\n",
              "       'Soil_Type17', 'Soil_Type18', 'Soil_Type19', 'Soil_Type20',\n",
              "       'Soil_Type21', 'Soil_Type22', 'Soil_Type23', 'Soil_Type24',\n",
              "       'Soil_Type25', 'Soil_Type26', 'Soil_Type27', 'Soil_Type28',\n",
              "       'Soil_Type29', 'Soil_Type30', 'Soil_Type31', 'Soil_Type32',\n",
              "       'Soil_Type33', 'Soil_Type34', 'Soil_Type35', 'Soil_Type36',\n",
              "       'Soil_Type37', 'Soil_Type38', 'Soil_Type39', 'Soil_Type40',\n",
              "       'Cover_Type'],\n",
              "      dtype='object')"
            ]
          },
          "execution_count": 3,
          "metadata": {},
          "output_type": "execute_result"
        }
      ],
      "source": [
        "# Make Copy of train_data data\n",
        "copy_train_data = train_data\n",
        "copy_train_data.columns"
      ]
    },
    {
      "cell_type": "code",
      "execution_count": null,
      "metadata": {
        "id": "wCP9dnlX5_X9"
      },
      "outputs": [],
      "source": [
        "# Mean hillshade of the hillshade at 9AM, Noon, and 3PM (0-255)\n",
        "copy_train_data['Hillshade_mean'] = (copy_train_data['Hillshade_9am'] +\n",
        "                                     copy_train_data['Hillshade_Noon'] +\n",
        "                                     copy_train_data['Hillshade_3pm'])/3\n",
        "\n",
        "# 9AM, Noon, 3PM hillshade squared\n",
        "copy_train_data['Hillshade_9am_sq'] = np.square(copy_train_data['Hillshade_9am'])\n",
        "copy_train_data['Hillshade_Noon_sq'] = np.square(copy_train_data['Hillshade_Noon'])\n",
        "copy_train_data['Hillshade_3pm_sq'] = np.square(copy_train_data['Hillshade_3pm'])\n",
        "\n",
        "# interaction_9amnoon\tProduct of hillshades at 9AM and Noon\n",
        "# interaction_noon3pm\tProduct of hillshades at Noon and 3PM\n",
        "# interaction_9am3pm\tProduct of hillshades at 9AM and 3PM\n",
        "\n",
        "copy_train_data['interaction_9amnoon'] = np.multiply(copy_train_data['Hillshade_9am'], copy_train_data['Hillshade_Noon'])\n",
        "copy_train_data['interaction_noon3pm'] = np.multiply(copy_train_data['Hillshade_Noon'], copy_train_data['Hillshade_3pm'])\n",
        "copy_train_data['interaction_9am3pm'] = np.multiply(copy_train_data['Hillshade_3pm'], copy_train_data['Hillshade_9am'])\n",
        "\n",
        "copy_train_data.drop(['Hillshade_9am', 'Hillshade_Noon', 'Hillshade_3pm'], axis=1, inplace=True)"
      ]
    },
    {
      "cell_type": "code",
      "execution_count": null,
      "metadata": {
        "id": "t3o9XFBg5_bV"
      },
      "outputs": [],
      "source": [
        "# Square root of the sum of the squared horizontal & vertical distances to water\n",
        "sum_of_squared_distances = copy_train_data['Horizontal_Distance_To_Hydrology']**2 + copy_train_data['Vertical_Distance_To_Hydrology']**2\n",
        "copy_train_data['Euclidean_Distance_To_Hydrology'] = np.sqrt(sum_of_squared_distances)"
      ]
    },
    {
      "cell_type": "code",
      "execution_count": null,
      "metadata": {
        "id": "YYPi5q1J6CrN"
      },
      "outputs": [],
      "source": [
        "# Logarithm of elevation\n",
        "copy_train_data['log_elevation'] = np.log(copy_train_data['Elevation'])\n",
        "\n",
        "# cosine_slope\tThe cosine of the slope, used to partially model the relationships between hillshade\n",
        "copy_train_data['cosine_slope'] = np.cos(np.radians(copy_train_data['Slope']))"
      ]
    },
    {
      "cell_type": "code",
      "execution_count": null,
      "metadata": {
        "id": "hfySY0ht6Cti"
      },
      "outputs": [],
      "source": [
        "X = copy_train_data.drop(['Id', 'Soil_Type7', 'Soil_Type15', 'Cover_Type'], axis=1)\n",
        "y = copy_train_data['Cover_Type']\n",
        "\n",
        "X_train, X_test, y_train, y_test = train_test_split(X, y, test_size=0.3, random_state=42)"
      ]
    },
    {
      "cell_type": "code",
      "execution_count": null,
      "metadata": {
        "id": "eceOytqK9gt2"
      },
      "outputs": [],
      "source": [
        "lr = LogisticRegression(random_state=42, class_weight = 'balanced', max_iter=200, penalty='l1', solver='liblinear')\n",
        "rfc = RandomForestClassifier(random_state=42, bootstrap=True, class_weight = 'balanced', criterion='entropy', max_features='auto', min_samples_leaf=1, min_samples_split=2, n_estimators=500)\n",
        "ext = ExtraTreesClassifier(random_state=42, bootstrap=True, class_weight = 'balanced', criterion='entropy', max_features='auto', min_samples_leaf=1, min_samples_split=2, n_estimators=500)\n",
        "dtc = DecisionTreeClassifier(random_state=42, criterion='entropy', min_samples_leaf=1, min_samples_split=2)\n",
        "gbc = GradientBoostingClassifier(random_state=42, criterion='friedman_mse', learning_rate=0.1, max_features=None, n_estimators=500)\n",
        "hgbc = HistGradientBoostingClassifier(random_state=42, learning_rate=0.1, max_iter=500)"
      ]
    },
    {
      "cell_type": "markdown",
      "metadata": {
        "id": "Jv3XQ4LH9j9R"
      },
      "source": [
        "# **CASE-I**"
      ]
    },
    {
      "cell_type": "code",
      "execution_count": null,
      "metadata": {
        "colab": {
          "background_save": true
        },
        "id": "76H0O0OyfiYq",
        "outputId": "9bc42642-0d98-4362-e13b-95e1fd58770f"
      },
      "outputs": [
        {
          "name": "stdout",
          "output_type": "stream",
          "text": [
            "Model accuracy: 0.8595994885225643\n"
          ]
        }
      ],
      "source": [
        "algo_1 = [('lr', lr),('ext', ext),('dtc', dtc), ('gbc', gbc), ('hgbc', hgbc)]\n",
        "stack_model_1 = StackingClassifier(estimators = algo_1, final_estimator = rfc)\n",
        "score_1 = cross_val_score(stack_model_1, X_train, y_train, cv = 5,scoring = 'accuracy')\n",
        "print(\"Model accuracy:\",score_1.mean())"
      ]
    },
    {
      "cell_type": "code",
      "execution_count": null,
      "metadata": {
        "colab": {
          "base_uri": "https://localhost:8080/"
        },
        "id": "f_Snyzhc8aPn",
        "outputId": "ba6bc76d-6416-4173-d288-5d290d2d68ee"
      },
      "outputs": [
        {
          "name": "stdout",
          "output_type": "stream",
          "text": [
            "Stack Model-1 Test Accuracy: \n",
            " 0.8584656084656085\n",
            "Stack Model-1 Test Confusion matrix: \n",
            " [[453 136   1   0  10   0  20]\n",
            " [ 95 495  22   0  33  11   2]\n",
            " [  0   3 559  18   2  63   0]\n",
            " [  0   0  16 639   0   6   0]\n",
            " [  0  33  16   0 599   2   0]\n",
            " [  0   9  89  12   2 538   0]\n",
            " [ 41   0   0   0   0   0 611]]\n",
            "Stack Model-1 Test Classification report: \n",
            "               precision    recall  f1-score   support\n",
            "\n",
            "           1       0.77      0.73      0.75       620\n",
            "           2       0.73      0.75      0.74       658\n",
            "           3       0.80      0.87      0.83       645\n",
            "           4       0.96      0.97      0.96       661\n",
            "           5       0.93      0.92      0.92       650\n",
            "           6       0.87      0.83      0.85       650\n",
            "           7       0.97      0.94      0.95       652\n",
            "\n",
            "    accuracy                           0.86      4536\n",
            "   macro avg       0.86      0.86      0.86      4536\n",
            "weighted avg       0.86      0.86      0.86      4536\n",
            "\n"
          ]
        }
      ],
      "source": [
        "algo_1 = [('lr', lr),('ext', ext),('dtc', dtc), ('gbc', gbc), ('hgbc', hgbc)]\n",
        "stack_model_1 = StackingClassifier(estimators = algo_1, final_estimator = rfc)\n",
        "\n",
        "stack_model_1.fit(X_train, y_train)\n",
        "\n",
        "y_pred = stack_model_1.predict(X_test)\n",
        "stackmodel1_accuracy = accuracy_score(y_test, y_pred)\n",
        "stackmodel1_conf_matrix = confusion_matrix(y_test, y_pred)\n",
        "stackmodel1_classification_report = classification_report(y_test, y_pred)\n",
        "\n",
        "print('Stack Model-1 Test Accuracy: \\n', stackmodel1_accuracy)\n",
        "print('Stack Model-1 Test Confusion matrix: \\n', stackmodel1_conf_matrix)\n",
        "print('Stack Model-1 Test Classification report: \\n', stackmodel1_classification_report)"
      ]
    },
    {
      "cell_type": "markdown",
      "metadata": {
        "id": "gljnOxq89npX"
      },
      "source": [
        "# **CASE-II**"
      ]
    },
    {
      "cell_type": "code",
      "execution_count": null,
      "metadata": {
        "colab": {
          "base_uri": "https://localhost:8080/"
        },
        "id": "e38OrgV49mYh",
        "outputId": "e4e22510-5826-422d-9046-6954e3fb41cc"
      },
      "outputs": [
        {
          "name": "stdout",
          "output_type": "stream",
          "text": [
            "Model accuracy: 0.8561037527692378\n"
          ]
        }
      ],
      "source": [
        "algo_2 = [('ext', ext), ('gbc', gbc), ('hgbc', hgbc)]\n",
        "stack_model_2 = StackingClassifier(estimators = algo_2, final_estimator = rfc)\n",
        "score_2 = cross_val_score(stack_model_2, X_train, y_train, cv = 5,scoring = 'accuracy')\n",
        "print(\"Model accuracy:\",score_2.mean())"
      ]
    },
    {
      "cell_type": "code",
      "execution_count": null,
      "metadata": {
        "colab": {
          "base_uri": "https://localhost:8080/"
        },
        "id": "isXRlMK7VsKF",
        "outputId": "eaec8549-1554-40c7-fcdd-405fc2e75645"
      },
      "outputs": [
        {
          "name": "stdout",
          "output_type": "stream",
          "text": [
            "Stack Model-2 Test Accuracy: \n",
            " 0.8509700176366843\n",
            "Stack Model-2 Test Confusion matrix: \n",
            " [[452 137   1   0  10   2  18]\n",
            " [ 93 497  21   0  33  12   2]\n",
            " [  0   1 542  19   3  80   0]\n",
            " [  0   0  15 636   0  10   0]\n",
            " [  0  38  16   0 594   2   0]\n",
            " [  0   9  93  14   4 530   0]\n",
            " [ 43   0   0   0   0   0 609]]\n",
            "Stack Model-2 Test Classification report: \n",
            "               precision    recall  f1-score   support\n",
            "\n",
            "           1       0.77      0.73      0.75       620\n",
            "           2       0.73      0.76      0.74       658\n",
            "           3       0.79      0.84      0.81       645\n",
            "           4       0.95      0.96      0.96       661\n",
            "           5       0.92      0.91      0.92       650\n",
            "           6       0.83      0.82      0.82       650\n",
            "           7       0.97      0.93      0.95       652\n",
            "\n",
            "    accuracy                           0.85      4536\n",
            "   macro avg       0.85      0.85      0.85      4536\n",
            "weighted avg       0.85      0.85      0.85      4536\n",
            "\n"
          ]
        }
      ],
      "source": [
        "algo_2 = [('ext', ext), ('gbc', gbc), ('hgbc', hgbc)]\n",
        "stack_model_2 = StackingClassifier(estimators = algo_2, final_estimator = rfc)\n",
        "\n",
        "stack_model_2.fit(X_train, y_train)\n",
        "\n",
        "y_pred = stack_model_2.predict(X_test)\n",
        "stackmodel2_accuracy = accuracy_score(y_test, y_pred)\n",
        "stackmodel2_conf_matrix = confusion_matrix(y_test, y_pred)\n",
        "stackmodel2_classification_report = classification_report(y_test, y_pred)\n",
        "\n",
        "print('Stack Model-2 Test Accuracy: \\n', stackmodel2_accuracy)\n",
        "print('Stack Model-2 Test Confusion matrix: \\n', stackmodel2_conf_matrix)\n",
        "print('Stack Model-2 Test Classification report: \\n', stackmodel2_classification_report)"
      ]
    },
    {
      "cell_type": "markdown",
      "metadata": {
        "id": "QtrwLzBtZo0z"
      },
      "source": [
        "# **CASE-III**"
      ]
    },
    {
      "cell_type": "code",
      "execution_count": null,
      "metadata": {
        "colab": {
          "background_save": true
        },
        "id": "ZCvLfgMk9ma1",
        "outputId": "406497d4-6e54-4b22-c5b2-d976c56da1fb"
      },
      "outputs": [
        {
          "name": "stdout",
          "output_type": "stream",
          "text": [
            "Model accuracy: 0.8407025492614026\n"
          ]
        }
      ],
      "source": [
        "algo_3 = [('ext', ext), ('gbc', gbc), ('dtc', dtc)]\n",
        "stack_model_3 = StackingClassifier(estimators = algo_3, final_estimator = rfc)\n",
        "score_3 = cross_val_score(stack_model_3, X_train, y_train, cv = 5,scoring = 'accuracy')\n",
        "print(\"Model accuracy:\",score_3.mean())"
      ]
    },
    {
      "cell_type": "code",
      "execution_count": null,
      "metadata": {
        "colab": {
          "background_save": true
        },
        "id": "ggnCpBkJV-gW",
        "outputId": "48b18b6a-3ebc-40bd-9731-f497ed73d849"
      },
      "outputs": [
        {
          "name": "stdout",
          "output_type": "stream",
          "text": [
            "Stack Model-3 Test Accuracy: \n",
            " 0.8549382716049383\n",
            "Stack Model-3 Test Confusion matrix: \n",
            " [[445 133   1   0  13   2  26]\n",
            " [101 475  21   0  47  11   3]\n",
            " [  0   5 522  29   2  87   0]\n",
            " [  0   0  11 644   0   6   0]\n",
            " [  1  23  14   0 609   3   0]\n",
            " [  0  11  65  13   1 560   0]\n",
            " [ 29   0   0   0   0   0 623]]\n",
            "Stack Model-3 Test Classification report: \n",
            "               precision    recall  f1-score   support\n",
            "\n",
            "           1       0.77      0.72      0.74       620\n",
            "           2       0.73      0.72      0.73       658\n",
            "           3       0.82      0.81      0.82       645\n",
            "           4       0.94      0.97      0.96       661\n",
            "           5       0.91      0.94      0.92       650\n",
            "           6       0.84      0.86      0.85       650\n",
            "           7       0.96      0.96      0.96       652\n",
            "\n",
            "    accuracy                           0.85      4536\n",
            "   macro avg       0.85      0.85      0.85      4536\n",
            "weighted avg       0.85      0.85      0.85      4536\n",
            "\n"
          ]
        }
      ],
      "source": [
        "algo_3 = [('ext', ext), ('gbc', gbc), ('dtc', dtc)]\n",
        "stack_model_3 = StackingClassifier(estimators = algo_3, final_estimator = rfc)\n",
        "\n",
        "stack_model_3.fit(X_train, y_train)\n",
        "\n",
        "y_pred = stack_model_3.predict(X_test)\n",
        "stackmodel3_accuracy = accuracy_score(y_test, y_pred)\n",
        "stackmodel3_conf_matrix = confusion_matrix(y_test, y_pred)\n",
        "stackmodel3_classification_report = classification_report(y_test, y_pred)\n",
        "\n",
        "print('Stack Model-3 Test Accuracy: \\n', stackmodel3_accuracy)\n",
        "print('Stack Model-3 Test Confusion matrix: \\n', stackmodel3_conf_matrix)\n",
        "print('Stack Model-3 Test Classification report: \\n', stackmodel3_classification_report)"
      ]
    },
    {
      "cell_type": "markdown",
      "metadata": {
        "id": "cuzx-1Qvkm4T"
      },
      "source": [
        "# **CASE-IV**"
      ]
    },
    {
      "cell_type": "code",
      "execution_count": null,
      "metadata": {
        "colab": {
          "base_uri": "https://localhost:8080/"
        },
        "id": "SjPCdR1NklxB",
        "outputId": "b5c40615-297d-49d0-8689-6f14d09fabac"
      },
      "outputs": [
        {
          "name": "stdout",
          "output_type": "stream",
          "text": [
            "Model accuracy: 0.8419318184862303\n"
          ]
        }
      ],
      "source": [
        "algo_4 = [('lr', lr),('rfc', rfc),('dtc', dtc), ('gbc', gbc)]\n",
        "stack_model_4 = StackingClassifier(estimators = algo_4, final_estimator = ext)\n",
        "score_4 = cross_val_score(stack_model_4, X_train, y_train, cv = 5,scoring = 'accuracy')\n",
        "print(\"Model accuracy:\",score_4.mean())"
      ]
    },
    {
      "cell_type": "code",
      "execution_count": null,
      "metadata": {
        "colab": {
          "base_uri": "https://localhost:8080/"
        },
        "id": "QIjN7i6JGaCc",
        "outputId": "154bce5d-6c14-431d-d46f-92dfbff636dc"
      },
      "outputs": [
        {
          "name": "stdout",
          "output_type": "stream",
          "text": [
            "Stack Model-4 Test Accuracy: \n",
            " 0.8511904761904762\n",
            "Stack Model-4 Test Confusion matrix: \n",
            " [[463 119   1   0  10   1  26]\n",
            " [106 462  20   0  51  15   4]\n",
            " [  0   4 513  27   2  99   0]\n",
            " [  0   0  12 641   0   8   0]\n",
            " [  1  24  15   0 608   2   0]\n",
            " [  0  12  65  15   3 555   0]\n",
            " [ 33   0   0   0   0   0 619]]\n",
            "Stack Model-4 Test Classification report: \n",
            "               precision    recall  f1-score   support\n",
            "\n",
            "           1       0.77      0.75      0.76       620\n",
            "           2       0.74      0.70      0.72       658\n",
            "           3       0.82      0.80      0.81       645\n",
            "           4       0.94      0.97      0.95       661\n",
            "           5       0.90      0.94      0.92       650\n",
            "           6       0.82      0.85      0.83       650\n",
            "           7       0.95      0.95      0.95       652\n",
            "\n",
            "    accuracy                           0.85      4536\n",
            "   macro avg       0.85      0.85      0.85      4536\n",
            "weighted avg       0.85      0.85      0.85      4536\n",
            "\n"
          ]
        }
      ],
      "source": [
        "algo_4 = [('lr', lr),('rfc', rfc),('dtc', dtc), ('gbc', gbc)]\n",
        "stack_model_4 = StackingClassifier(estimators = algo_4, final_estimator = ext)\n",
        "\n",
        "stack_model_4.fit(X_train, y_train)\n",
        "\n",
        "y_pred = stack_model_4.predict(X_test)\n",
        "stackmodel4_accuracy = accuracy_score(y_test, y_pred)\n",
        "stackmodel4_conf_matrix = confusion_matrix(y_test, y_pred)\n",
        "stackmodel4_classification_report = classification_report(y_test, y_pred)\n",
        "\n",
        "print('Stack Model-4 Test Accuracy: \\n', stackmodel4_accuracy)\n",
        "print('Stack Model-4 Test Confusion matrix: \\n', stackmodel4_conf_matrix)\n",
        "print('Stack Model-4 Test Classification report: \\n', stackmodel4_classification_report)"
      ]
    },
    {
      "cell_type": "code",
      "execution_count": null,
      "metadata": {
        "colab": {
          "base_uri": "https://localhost:8080/",
          "height": 607
        },
        "id": "d3719EVd5I9z",
        "outputId": "89deb8a7-1e76-41ca-9d5f-90b146d84d2a"
      },
      "outputs": [
        {
          "data": {
            "image/png": "[encoded data removed]",
            "text/plain": [
              "<Figure size 1000x600 with 1 Axes>"
            ]
          },
          "metadata": {},
          "output_type": "display_data"
        }
      ],
      "source": [
        "modelcases = ['Stack Model 1', 'Stack Model 2', 'Stack Model 3', 'Stack Model 4']\n",
        "modelscore = [score_1, score_2, score_3, score_4]\n",
        "predictionaccuracy = [stackmodel1_accuracy, stackmodel2_accuracy, stackmodel3_accuracy, stackmodel4_accuracy]\n",
        "\n",
        "accuracy_data = pd.DataFrame({'Model Cases': modelcases, 'Model Score': modelscore, 'Prediction Accuracy': predictionaccuracy})\n",
        "accuracy_data.set_index('Model Cases', inplace=True)\n",
        "\n",
        "ax = accuracy_data.plot(kind='line', rot=0, marker='o', figsize=(10, 6))\n",
        "plt.xlabel('Models')\n",
        "plt.ylabel('Accuracy')\n",
        "plt.title('Model Scores and Prediction Accuracy')\n",
        "plt.legend()\n",
        "plt.tight_layout()\n",
        "plt.show()"
      ]
    }
  ],
  "metadata": {
    "colab": {
      "provenance": []
    },
    "kernelspec": {
      "display_name": "Python 3",
      "name": "python3"
    },
    "language_info": {
      "name": "python"
    }
  },
  "nbformat": 4,
  "nbformat_minor": 0
}
